{
 "cells": [
  {
   "cell_type": "code",
   "execution_count": 1,
   "id": "c064fbeb",
   "metadata": {},
   "outputs": [],
   "source": [
    "import numpy as np"
   ]
  },
  {
   "cell_type": "code",
   "execution_count": 6,
   "id": "a1104d96",
   "metadata": {},
   "outputs": [],
   "source": [
    "def initialize():\n",
    "    inp = 5\n",
    "    h1 = 3\n",
    "    h2 = 2\n",
    "    h3 = 3\n",
    "    out = 1\n",
    "    \n",
    "    w1 = np.random.randn(inp,h1)\n",
    "    b1 = np.random.randn(1,h1)\n",
    "    \n",
    "    w2 = np.random.randn(h1,h2)\n",
    "    b2 = np.random.randn(1,h2)\n",
    "    \n",
    "    w3 = np.random.randn(h2,h3)\n",
    "    b3 = np.random.randn(1,h3)\n",
    "    \n",
    "    w_out = np.random.randn(h3,out)\n",
    "    b_out = np.random.randn(1,out)\n",
    "    \n",
    "    print(\"Neural Network Architecture:\")\n",
    "    print(f\"Input layer: {inp} nodes\")\n",
    "    print(f\"Hidden layer 1: {h1} nodes\")\n",
    "    print(f\"Hidden layer 2: {h2} nodes\")\n",
    "    print(f\"Hidden layer 3: {h3} nodes\")\n",
    "    print(f\"Output layer: {out} node\")\n",
    "    \n",
    "    print(\"\\nWeights and Biases:\")\n",
    "    print(\"Layer 1 - Weights:\", w1)\n",
    "    print(\"Layer 1 - Biases:\", b1)\n",
    "    print(\"\\nLayer 2 - Weights:\", w2)\n",
    "    print(\"Layer 2 - Biases:\", b2)\n",
    "    print(\"\\nLayer 3 - Weights:\", w3)\n",
    "    print(\"Layer 3 - Biases:\", b3)\n",
    "    print(\"\\nOutput Layer - Weights:\", w_out)\n",
    "    print(\"Output Layer - Bias:\", b_out)\n"
   ]
  },
  {
   "cell_type": "code",
   "execution_count": 7,
   "id": "2ce7dccd",
   "metadata": {},
   "outputs": [
    {
     "name": "stdout",
     "output_type": "stream",
     "text": [
      "Neural Network Architecture:\n",
      "Input layer: 5 nodes\n",
      "Hidden layer 1: 3 nodes\n",
      "Hidden layer 2: 2 nodes\n",
      "Hidden layer 3: 3 nodes\n",
      "Output layer: 1 node\n",
      "\n",
      "Weights and Biases:\n",
      "Layer 1 - Weights: [[ 0.10360069 -2.50727238 -1.52494524]\n",
      " [ 1.7183013   1.77676842  0.02085517]\n",
      " [ 0.51599234  1.51595689  0.91811867]\n",
      " [-0.1002834  -0.98557063  0.12253959]\n",
      " [ 0.24021476 -0.80513873  0.78229478]]\n",
      "Layer 1 - Biases: [[-2.45883326 -1.50094332 -1.36082243]]\n",
      "\n",
      "Layer 2 - Weights: [[-0.94146793 -1.36312967]\n",
      " [ 0.11627009 -0.47173855]\n",
      " [ 0.99041712  0.1916462 ]]\n",
      "Layer 2 - Biases: [[-0.1650648   0.00635264]]\n",
      "\n",
      "Layer 3 - Weights: [[ 0.55402648 -0.33407478  0.90044549]\n",
      " [-2.55475488 -0.77045299  1.62934602]]\n",
      "Layer 3 - Biases: [[ 1.05887566  0.29988526 -1.77890686]]\n",
      "\n",
      "Output Layer - Weights: [[ 1.27515021]\n",
      " [ 1.74890431]\n",
      " [-0.38792148]]\n",
      "Output Layer - Bias: [[-2.20042743]]\n"
     ]
    }
   ],
   "source": [
    "initialize()"
   ]
  },
  {
   "cell_type": "code",
   "execution_count": null,
   "id": "e9c11641",
   "metadata": {},
   "outputs": [],
   "source": []
  }
 ],
 "metadata": {
  "kernelspec": {
   "display_name": "Python 3 (ipykernel)",
   "language": "python",
   "name": "python3"
  },
  "language_info": {
   "codemirror_mode": {
    "name": "ipython",
    "version": 3
   },
   "file_extension": ".py",
   "mimetype": "text/x-python",
   "name": "python",
   "nbconvert_exporter": "python",
   "pygments_lexer": "ipython3",
   "version": "3.10.9"
  }
 },
 "nbformat": 4,
 "nbformat_minor": 5
}
