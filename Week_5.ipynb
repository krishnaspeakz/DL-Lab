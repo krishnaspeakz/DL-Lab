{
 "cells": [
  {
   "cell_type": "code",
   "execution_count": 15,
   "id": "ad452b06",
   "metadata": {},
   "outputs": [],
   "source": [
    "import numpy as np"
   ]
  },
  {
   "cell_type": "code",
   "execution_count": 16,
   "id": "6b003dcd",
   "metadata": {},
   "outputs": [],
   "source": [
    "def relu(x):\n",
    "    return np.maximum(0,x)"
   ]
  },
  {
   "cell_type": "code",
   "execution_count": 19,
   "id": "f2534bc2",
   "metadata": {},
   "outputs": [],
   "source": [
    "def initialize():\n",
    "    inp = 5\n",
    "    h1 = 3\n",
    "    h2 = 2\n",
    "    h3 = 2\n",
    "    out = 1\n",
    "    \n",
    "    w1 = np.random.randn(inp,h1)\n",
    "    b1 = np.random.randn(1,h1)\n",
    "    \n",
    "    w2 = np.random.randn(h1,h2)\n",
    "    b2 = np.random.randn(1,h2)\n",
    "    \n",
    "    w3 = np.random.randn(h2,h3)\n",
    "    b3 = np.random.randn(1,h3)\n",
    "    \n",
    "    w_out = np.random.randn(h3,out)\n",
    "    b_out = np.random.randn(1,out)\n",
    "   \n",
    "    print(\"Neural Network Architecture:\")\n",
    "    print(f\"Input layer: {inp} nodes\")\n",
    "    print(f\"Hidden layer 1: {h1} nodes\")\n",
    "    print(f\"Hidden layer 2: {h2} nodes\")\n",
    "    print(f\"Hidden layer 3: {h3} nodes\")\n",
    "    print(f\"Output layer: {out} node\")\n",
    "    print(\"\\nWeights and Biases:\")\n",
    "    print(\"Layer 1 - Weights:\", w1)\n",
    "    print(\"Layer 1 - Biases:\", b1)\n",
    "    print(\"\\nLayer 2 - Weights:\", w2)\n",
    "    print(\"Layer 2 - Biases:\", b2)\n",
    "    print(\"\\nLayer 3 - Weights:\", w3)\n",
    "    print(\"Layer 3 - Biases:\", b3)\n",
    "    print(\"\\nOutput Layer - Weights:\", w_out)\n",
    "    print(\"Output Layer - Bias:\", b_out)\n",
    "    \n",
    "    # Compute activations for each node in the first hidden layer\n",
    "    inp_lay = np.random.randn(1,inp)\n",
    "    act_h1 = relu(np.dot(inp_lay,w1) + b1)\n",
    "    print(\"\\nActivations in the First Hidden Layer:\",act_h1)\n",
    "    \n",
    "    act_h2 = relu(np.dot(act_h1,w2) + b2)\n",
    "    print(\"\\nActivations in the Second Hidden Layer:\",act_h2)\n",
    "    \n",
    "    act_h3 = relu(np.dot(act_h2,w3) + b3)\n",
    "    print(\"\\nActivations in the Third Hidden Layer:\",act_h3)"
   ]
  },
  {
   "cell_type": "code",
   "execution_count": 20,
   "id": "a16942ba",
   "metadata": {},
   "outputs": [
    {
     "name": "stdout",
     "output_type": "stream",
     "text": [
      "Neural Network Architecture:\n",
      "Input layer: 5 nodes\n",
      "Hidden layer 1: 3 nodes\n",
      "Hidden layer 2: 2 nodes\n",
      "Hidden layer 3: 2 nodes\n",
      "Output layer: 1 node\n",
      "\n",
      "Weights and Biases:\n",
      "Layer 1 - Weights: [[-2.90975821 -0.24572622  0.131157  ]\n",
      " [ 0.74836216  0.75925032 -0.87883958]\n",
      " [ 1.00475444  0.61894424 -0.20599101]\n",
      " [ 0.3457995  -2.24879534 -0.86454721]\n",
      " [-0.04230852  0.41503229  1.0745564 ]]\n",
      "Layer 1 - Biases: [[0.51634714 0.5827655  0.48825924]]\n",
      "\n",
      "Layer 2 - Weights: [[-0.97695754 -1.03313125]\n",
      " [ 0.18407951 -1.00658248]\n",
      " [ 0.34069686 -0.45724586]]\n",
      "Layer 2 - Biases: [[0.57134822 2.12771419]]\n",
      "\n",
      "Layer 3 - Weights: [[ 2.32855219 -0.06548354]\n",
      " [ 0.06279861  0.47059225]]\n",
      "Layer 3 - Biases: [[1.05388766 1.48173088]]\n",
      "\n",
      "Output Layer - Weights: [[-0.50214487]\n",
      " [-2.03613296]]\n",
      "Output Layer - Bias: [[0.95445417]]\n",
      "\n",
      "Activations in the First Hidden Layer: [[1.69872316 9.92322786 4.24440895]]\n",
      "\n",
      "Activations in the Second Hidden Layer: [[2.18448751 0.        ]]\n",
      "\n",
      "Activations in the Third Hidden Layer: [[6.14058083 1.3386829 ]]\n"
     ]
    }
   ],
   "source": [
    "initialize()"
   ]
  },
  {
   "cell_type": "code",
   "execution_count": null,
   "id": "6e511cdf",
   "metadata": {},
   "outputs": [],
   "source": []
  }
 ],
 "metadata": {
  "kernelspec": {
   "display_name": "Python 3 (ipykernel)",
   "language": "python",
   "name": "python3"
  },
  "language_info": {
   "codemirror_mode": {
    "name": "ipython",
    "version": 3
   },
   "file_extension": ".py",
   "mimetype": "text/x-python",
   "name": "python",
   "nbconvert_exporter": "python",
   "pygments_lexer": "ipython3",
   "version": "3.10.9"
  }
 },
 "nbformat": 4,
 "nbformat_minor": 5
}
