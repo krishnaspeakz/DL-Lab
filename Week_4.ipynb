{
 "cells": [
  {
   "cell_type": "code",
   "execution_count": 3,
   "id": "6307f28e",
   "metadata": {},
   "outputs": [],
   "source": [
    "import numpy as np"
   ]
  },
  {
   "cell_type": "code",
   "execution_count": 4,
   "id": "7165b4b6",
   "metadata": {},
   "outputs": [],
   "source": [
    "def tanh(x):\n",
    "    return np.tanh(x)"
   ]
  },
  {
   "cell_type": "code",
   "execution_count": 5,
   "id": "2bc2e436",
   "metadata": {},
   "outputs": [],
   "source": [
    "def initialize():\n",
    "    inp = 5\n",
    "    h1 = 3\n",
    "    h2 = 2\n",
    "    h3 = 2\n",
    "    out = 1\n",
    "    \n",
    "    w1 = np.random.randn(inp,h1)\n",
    "    b1 = np.zeros((1,h1))\n",
    "    \n",
    "    w2 = np.random.randn(h1,h2)\n",
    "    b2 = np.zeros((1,h2))\n",
    "    \n",
    "    w3 = np.random.randn(h2,h3)\n",
    "    b3 = np.zeros((1,h3))\n",
    "    \n",
    "    w_out = np.random.randn(h2,out)\n",
    "    b_out = np.zeros((1,out))\n",
    "   \n",
    "    print(\"Neural Network Architecture:\")\n",
    "    print(f\"Input layer: {inp} nodes\")\n",
    "    print(f\"Hidden layer 1: {h1} nodes\")\n",
    "    print(f\"Hidden layer 2: {h2} nodes\")\n",
    "    print(f\"Hidden layer 3: {h3} nodes\")\n",
    "    print(f\"Output layer: {out} node\")\n",
    "    print(\"\\nWeights and Biases:\")\n",
    "    print(\"Layer 1 - Weights:\", w1)\n",
    "    print(\"Layer 1 - Biases:\", b1)\n",
    "    print(\"\\nLayer 2 - Weights:\", w2)\n",
    "    print(\"Layer 2 - Biases:\", b2)\n",
    "    print(\"\\nLayer 3 - Weights:\", w3)\n",
    "    print(\"Layer 3 - Biases:\", b3)\n",
    "    print(\"\\nOutput Layer - Weights:\", w_out)\n",
    "    print(\"Output Layer - Bias:\", b_out)\n",
    "    \n",
    "    # Compute activations for each node in the first hidden layer\n",
    "    inp_lay = np.random.randn(1,inp)\n",
    "    act_h1 = tanh(np.dot(inp_lay,w1) + b1)\n",
    "    print(\"\\nActivations in the First Hidden Layer:\",act_h1)\n",
    "    \n",
    "    act_h2 = tanh(np.dot(act_h1,w2) + b2)\n",
    "    print(\"\\nActivations in the Second Hidden Layer:\",act_h2)\n",
    "    \n",
    "    act_h3 = tanh(np.dot(act_h2,w3) + b3)\n",
    "    print(\"\\nActivations in the Third Hidden Layer:\",act_h3)"
   ]
  },
  {
   "cell_type": "code",
   "execution_count": 6,
   "id": "d9ad2062",
   "metadata": {},
   "outputs": [
    {
     "name": "stdout",
     "output_type": "stream",
     "text": [
      "Neural Network Architecture:\n",
      "Input layer: 5 nodes\n",
      "Hidden layer 1: 3 nodes\n",
      "Hidden layer 2: 2 nodes\n",
      "Hidden layer 3: 2 nodes\n",
      "Output layer: 1 node\n",
      "\n",
      "Weights and Biases:\n",
      "Layer 1 - Weights: [[-0.65233062  0.41739071  0.64932039]\n",
      " [ 0.03603011 -1.29546632 -0.06803138]\n",
      " [-1.53829651 -0.71232978 -0.49586421]\n",
      " [-0.06496751  1.01598549  0.57858562]\n",
      " [ 0.13704631  0.71962728 -0.67569677]]\n",
      "Layer 1 - Biases: [[0. 0. 0.]]\n",
      "\n",
      "Layer 2 - Weights: [[-0.14402589 -2.89146134]\n",
      " [-0.65887961  1.16207978]\n",
      " [ 0.6202981   1.57276385]]\n",
      "Layer 2 - Biases: [[0. 0.]]\n",
      "\n",
      "Layer 3 - Weights: [[ 0.06424776 -1.11496   ]\n",
      " [-0.54942504 -0.75130911]]\n",
      "Layer 3 - Biases: [[0. 0.]]\n",
      "\n",
      "Output Layer - Weights: [[ 0.67209357]\n",
      " [-0.38415309]]\n",
      "Output Layer - Bias: [[0.]]\n",
      "\n",
      "Activations in the First Hidden Layer: [[ 0.90121839  0.02514955 -0.97492055]]\n",
      "\n",
      "Activations in the Second Hidden Layer: [[-0.63581109 -0.99946164]]\n",
      "\n",
      "Activations in the Third Hidden Layer: [[0.46860383 0.89761541]]\n"
     ]
    }
   ],
   "source": [
    "initialize()"
   ]
  },
  {
   "cell_type": "code",
   "execution_count": null,
   "id": "adf2b676",
   "metadata": {},
   "outputs": [],
   "source": []
  }
 ],
 "metadata": {
  "kernelspec": {
   "display_name": "Python 3 (ipykernel)",
   "language": "python",
   "name": "python3"
  },
  "language_info": {
   "codemirror_mode": {
    "name": "ipython",
    "version": 3
   },
   "file_extension": ".py",
   "mimetype": "text/x-python",
   "name": "python",
   "nbconvert_exporter": "python",
   "pygments_lexer": "ipython3",
   "version": "3.10.9"
  }
 },
 "nbformat": 4,
 "nbformat_minor": 5
}
