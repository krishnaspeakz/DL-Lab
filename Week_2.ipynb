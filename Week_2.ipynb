{
 "cells": [
  {
   "cell_type": "code",
   "execution_count": 1,
   "id": "74e7410e",
   "metadata": {},
   "outputs": [],
   "source": [
    "import numpy as np"
   ]
  },
  {
   "cell_type": "code",
   "execution_count": 3,
   "id": "e6b359d3",
   "metadata": {},
   "outputs": [],
   "source": [
    "np.random.seed(42)"
   ]
  },
  {
   "cell_type": "code",
   "execution_count": 4,
   "id": "2f59cb03",
   "metadata": {},
   "outputs": [],
   "source": [
    "inp = 2\n",
    "hid = 2\n",
    "out = 1"
   ]
  },
  {
   "cell_type": "code",
   "execution_count": 5,
   "id": "c82dd23d",
   "metadata": {},
   "outputs": [],
   "source": [
    "w_inp = np.random.randn(inp,hid)\n",
    "b_hid = np.random.randn(1,hid)\n",
    "\n",
    "w_hid = np.random.rand(hid,out)\n",
    "b_out = np.random.rand(1,out)"
   ]
  },
  {
   "cell_type": "code",
   "execution_count": 10,
   "id": "4b46744e",
   "metadata": {},
   "outputs": [
    {
     "name": "stdout",
     "output_type": "stream",
     "text": [
      "Weighted sum at hidden layer:\n",
      "[[2.33584106 2.33585748]]\n",
      "\n",
      "Weighted sum at output layer:\n",
      "[[2.76005313]]\n"
     ]
    }
   ],
   "source": [
    "#The weighted sum\n",
    "inp_val = np.array([[1.0,2.9]])\n",
    "\n",
    "weigh_hid = np.dot(inp_val,w_hid) + b_hid\n",
    "weigh_out = np.dot(weigh_hid,w_hid) + b_out\n",
    "\n",
    "print(\"Weighted sum at hidden layer:\")\n",
    "print(weigh_hid)\n",
    "print(\"\\nWeighted sum at output layer:\")\n",
    "print(weigh_out)"
   ]
  },
  {
   "cell_type": "code",
   "execution_count": 12,
   "id": "02da78ae",
   "metadata": {},
   "outputs": [
    {
     "name": "stdout",
     "output_type": "stream",
     "text": [
      "Activation at the first node in the hidden layer:\n",
      "[0.89481135]\n"
     ]
    }
   ],
   "source": [
    "# sigmoid activation function\n",
    "def sigmoid(x):\n",
    "    return 1 / (1 + np.exp(-x))\n",
    "\n",
    "weigh_hid = np.dot(inp_val,w_inp) + b_hid\n",
    "act_hid = sigmoid(weigh_hid)\n",
    "print(\"Activation at the first node in the hidden layer:\")\n",
    "print(act_hid[:, 0]) "
   ]
  },
  {
   "cell_type": "code",
   "execution_count": 13,
   "id": "a1677b6c",
   "metadata": {},
   "outputs": [
    {
     "name": "stdout",
     "output_type": "stream",
     "text": [
      "Activation at the second node in the hidden layer:\n",
      "[0.98278121]\n"
     ]
    }
   ],
   "source": [
    "# activation of the second node\n",
    "act_hid_sec = sigmoid(weigh_hid[:,1])\n",
    "print(\"Activation at the second node in the hidden layer:\")\n",
    "print(act_hid_sec)"
   ]
  },
  {
   "cell_type": "code",
   "execution_count": 17,
   "id": "4ea09961",
   "metadata": {},
   "outputs": [
    {
     "name": "stdout",
     "output_type": "stream",
     "text": [
      "Weighted sum at the output layer:\n",
      "[[1.50435053]]\n"
     ]
    }
   ],
   "source": [
    "# weighted sum at the output layer\n",
    "weigh_out = np.dot(act_hid,w_hid) + b_out\n",
    "print(\"Weighted sum at the output layer:\")\n",
    "print(weigh_out)"
   ]
  },
  {
   "cell_type": "code",
   "execution_count": 18,
   "id": "afed4db9",
   "metadata": {},
   "outputs": [
    {
     "name": "stdout",
     "output_type": "stream",
     "text": [
      "Output of the network:\n",
      "[[0.81822245]]\n"
     ]
    }
   ],
   "source": [
    "# output of the network as the activation of the node in the output layer\n",
    "out_net = sigmoid(weigh_out)\n",
    "print(\"Output of the network:\")\n",
    "print(out_net)"
   ]
  },
  {
   "cell_type": "code",
   "execution_count": null,
   "id": "995ab56f",
   "metadata": {},
   "outputs": [],
   "source": []
  }
 ],
 "metadata": {
  "kernelspec": {
   "display_name": "Python 3 (ipykernel)",
   "language": "python",
   "name": "python3"
  },
  "language_info": {
   "codemirror_mode": {
    "name": "ipython",
    "version": 3
   },
   "file_extension": ".py",
   "mimetype": "text/x-python",
   "name": "python",
   "nbconvert_exporter": "python",
   "pygments_lexer": "ipython3",
   "version": "3.10.9"
  }
 },
 "nbformat": 4,
 "nbformat_minor": 5
}
