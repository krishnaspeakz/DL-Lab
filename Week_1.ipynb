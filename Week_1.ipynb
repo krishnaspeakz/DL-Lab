{
 "cells": [
  {
   "cell_type": "code",
   "execution_count": 1,
   "id": "52eb6885",
   "metadata": {},
   "outputs": [],
   "source": [
    "import numpy as np"
   ]
  },
  {
   "cell_type": "code",
   "execution_count": 2,
   "id": "2e19ce6a",
   "metadata": {},
   "outputs": [],
   "source": [
    "np.random.seed(50)"
   ]
  },
  {
   "cell_type": "code",
   "execution_count": 3,
   "id": "d319b851",
   "metadata": {},
   "outputs": [],
   "source": [
    "inp = 2\n",
    "hid = 2\n",
    "out = 1"
   ]
  },
  {
   "cell_type": "code",
   "execution_count": 8,
   "id": "e31a7443",
   "metadata": {},
   "outputs": [],
   "source": [
    "w_inp = np.random.randn(inp,hid)\n",
    "b_hid = np.random.rand(1,hid)\n",
    "\n",
    "w_hid = np.random.rand(hid,out)\n",
    "b_out = np.random.rand(1,out)"
   ]
  },
  {
   "cell_type": "code",
   "execution_count": 9,
   "id": "baa1ee3d",
   "metadata": {},
   "outputs": [
    {
     "name": "stdout",
     "output_type": "stream",
     "text": [
      "Weights connecting input to hidden layer:\n",
      "[[-1.06376093 -1.31699608]\n",
      " [-0.94673406 -0.39584253]]\n"
     ]
    }
   ],
   "source": [
    "print(\"Weights connecting input to hidden layer:\")\n",
    "print(w_inp)"
   ]
  },
  {
   "cell_type": "code",
   "execution_count": 10,
   "id": "51fbb8bd",
   "metadata": {},
   "outputs": [
    {
     "name": "stdout",
     "output_type": "stream",
     "text": [
      "Biases for the hidden layer:\n",
      "[[0.97266468 0.90917844]]\n"
     ]
    }
   ],
   "source": [
    "print(\"Biases for the hidden layer:\")\n",
    "print(b_hid)"
   ]
  },
  {
   "cell_type": "code",
   "execution_count": 11,
   "id": "0ddfeb77",
   "metadata": {},
   "outputs": [
    {
     "name": "stdout",
     "output_type": "stream",
     "text": [
      "Weights connecting hidden to output layer:\n",
      "[[0.5599571 ]\n",
      " [0.31359075]]\n"
     ]
    }
   ],
   "source": [
    "print(\"Weights connecting hidden to output layer:\")\n",
    "print(w_hid)"
   ]
  },
  {
   "cell_type": "code",
   "execution_count": 12,
   "id": "c05cfd1b",
   "metadata": {},
   "outputs": [
    {
     "name": "stdout",
     "output_type": "stream",
     "text": [
      "Bias for the output layer:\n",
      "[[0.88820004]]\n"
     ]
    }
   ],
   "source": [
    "print(\"Bias for the output layer:\")\n",
    "print(b_out)"
   ]
  },
  {
   "cell_type": "code",
   "execution_count": null,
   "id": "a2c183d1",
   "metadata": {},
   "outputs": [],
   "source": []
  }
 ],
 "metadata": {
  "kernelspec": {
   "display_name": "Python 3 (ipykernel)",
   "language": "python",
   "name": "python3"
  },
  "language_info": {
   "codemirror_mode": {
    "name": "ipython",
    "version": 3
   },
   "file_extension": ".py",
   "mimetype": "text/x-python",
   "name": "python",
   "nbconvert_exporter": "python",
   "pygments_lexer": "ipython3",
   "version": "3.10.9"
  }
 },
 "nbformat": 4,
 "nbformat_minor": 5
}
